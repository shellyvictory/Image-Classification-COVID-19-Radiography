{
  "nbformat": 4,
  "nbformat_minor": 0,
  "metadata": {
    "colab": {
      "name": "Shelly Victory_Image Classification Model Deployment",
      "provenance": [],
      "collapsed_sections": []
    },
    "kernelspec": {
      "name": "python3",
      "display_name": "Python 3"
    },
    "language_info": {
      "name": "python"
    },
    "accelerator": "GPU"
  },
  "cells": [
    {
      "cell_type": "code",
      "metadata": {
        "id": "QfAqZlKDhUNg"
      },
      "source": [
        "import numpy as np\n",
        "from tensorflow.keras.models import Sequential\n",
        "from keras.layers import Dense, Conv2D, Flatten, Activation, MaxPooling2D, Dropout\n",
        "from keras.callbacks import EarlyStopping\n",
        "from sklearn import preprocessing\n",
        "from keras.preprocessing.image import ImageDataGenerator\n",
        "import tensorflow as tf"
      ],
      "execution_count": 3,
      "outputs": []
    },
    {
      "cell_type": "code",
      "metadata": {
        "id": "YEWMmkwRqhpu",
        "colab": {
          "base_uri": "https://localhost:8080/"
        },
        "outputId": "07c39bd9-6d40-4d3a-f663-12cb7e668855"
      },
      "source": [
        "import zipfile,os\n",
        "base_dir = '/content/drive/MyDrive/COVID-19_Radiography_Dataset'\n",
        "os.listdir(base_dir)"
      ],
      "execution_count": 4,
      "outputs": [
        {
          "output_type": "execute_result",
          "data": {
            "text/plain": [
              "['COVID.metadata.xlsx',\n",
              " 'Lung_Opacity.metadata.xlsx',\n",
              " 'Normal.metadata.xlsx',\n",
              " 'README.md.txt',\n",
              " 'Viral Pneumonia.metadata.xlsx',\n",
              " 'COVID',\n",
              " 'Viral Pneumonia',\n",
              " 'Lung_Opacity',\n",
              " 'Normal']"
            ]
          },
          "metadata": {},
          "execution_count": 4
        }
      ]
    },
    {
      "cell_type": "code",
      "metadata": {
        "id": "zGXF_C-vcSoG"
      },
      "source": [
        "classes=[\"COVID\", \"Lung_Opacity\", \"Normal\", \"Viral Pneumonia\"]"
      ],
      "execution_count": 5,
      "outputs": []
    },
    {
      "cell_type": "code",
      "metadata": {
        "id": "BwUho3lPobfP"
      },
      "source": [
        "train_dir = os.path.join(base_dir, 'train')\n",
        "validation_dir = os.path.join(base_dir, 'val')"
      ],
      "execution_count": 6,
      "outputs": []
    },
    {
      "cell_type": "code",
      "metadata": {
        "id": "Hvhb4j8oTpb8"
      },
      "source": [
        "datagen = ImageDataGenerator(\n",
        "                    rescale=1./255,\n",
        "                    rotation_range=20,\n",
        "                    horizontal_flip=True,\n",
        "                    shear_range = 0.2,\n",
        "                    fill_mode = 'constant',\n",
        "                    validation_split=0.2)"
      ],
      "execution_count": 7,
      "outputs": []
    },
    {
      "cell_type": "code",
      "metadata": {
        "id": "0bcpWWFmjWzI",
        "colab": {
          "base_uri": "https://localhost:8080/"
        },
        "outputId": "f34c5fdc-8561-4e00-94d4-377786468754"
      },
      "source": [
        "train_generator=datagen.flow_from_directory(\n",
        "    base_dir,\n",
        "    target_size=(150, 150),\n",
        "    color_mode='rgb',\n",
        "    batch_size=4,\n",
        "    class_mode='categorical',\n",
        "    subset='training')\n",
        "\n",
        "validation_generator=datagen.flow_from_directory(\n",
        "    base_dir,\n",
        "    target_size=(150, 150),\n",
        "    color_mode='rgb',\n",
        "    batch_size=4,\n",
        "    class_mode='categorical',\n",
        "    subset='validation')"
      ],
      "execution_count": 8,
      "outputs": [
        {
          "output_type": "stream",
          "name": "stdout",
          "text": [
            "Found 16933 images belonging to 4 classes.\n",
            "Found 4232 images belonging to 4 classes.\n"
          ]
        }
      ]
    },
    {
      "cell_type": "code",
      "metadata": {
        "id": "NDYFAY60jrfW"
      },
      "source": [
        "model = Sequential([\n",
        "    Conv2D(32, (3,3), activation='relu', input_shape=(150, 150, 3)),\n",
        "    MaxPooling2D(2, 2),\n",
        "    Conv2D(64, (3,3), activation='relu'),\n",
        "    MaxPooling2D(2,2),\n",
        "    Conv2D(128, (3,3), activation='relu'),\n",
        "    MaxPooling2D(2, 2),\n",
        "    Conv2D(128, (3,3), activation='relu'),\n",
        "    MaxPooling2D(2,2),\n",
        "    Flatten(),\n",
        "    Dense(512, activation='relu'),\n",
        "    Dense(128, activation='relu'),\n",
        "    Dropout(0.2),\n",
        "    Dense(128, activation='relu'),\n",
        "    Dropout(0.2),\n",
        "    Dense(4, activation='softmax'),\n",
        "])"
      ],
      "execution_count": 10,
      "outputs": []
    },
    {
      "cell_type": "code",
      "metadata": {
        "id": "mjgdfYV6kF23"
      },
      "source": [
        "model.compile(loss='categorical_crossentropy',\n",
        "              optimizer='Adam',\n",
        "              metrics=['accuracy'])"
      ],
      "execution_count": 11,
      "outputs": []
    },
    {
      "cell_type": "code",
      "metadata": {
        "id": "hmyo__BekGyg",
        "colab": {
          "base_uri": "https://localhost:8080/"
        },
        "outputId": "e3fa1f77-11fc-4aa8-c10e-8ff7dbe7630a"
      },
      "source": [
        "early = EarlyStopping(patience=5, monitor='val_loss', mode = 'min',verbose=0)\n",
        "history = model.fit(train_generator, epochs=8, validation_data=validation_generator, callbacks=[early])"
      ],
      "execution_count": 12,
      "outputs": [
        {
          "output_type": "stream",
          "name": "stdout",
          "text": [
            "Epoch 1/8\n",
            "4234/4234 [==============================] - 4426s 1s/step - loss: 0.8648 - accuracy: 0.6487 - val_loss: 0.6667 - val_accuracy: 0.7342\n",
            "Epoch 2/8\n",
            "4234/4234 [==============================] - 1130s 267ms/step - loss: 0.6836 - accuracy: 0.7315 - val_loss: 0.5963 - val_accuracy: 0.7512\n",
            "Epoch 3/8\n",
            "4234/4234 [==============================] - 1137s 268ms/step - loss: 0.6010 - accuracy: 0.7699 - val_loss: 0.5234 - val_accuracy: 0.7937\n",
            "Epoch 4/8\n",
            "4234/4234 [==============================] - 1132s 267ms/step - loss: 0.5616 - accuracy: 0.7886 - val_loss: 0.5302 - val_accuracy: 0.7977\n",
            "Epoch 5/8\n",
            "4234/4234 [==============================] - 1148s 271ms/step - loss: 0.5159 - accuracy: 0.8085 - val_loss: 0.5087 - val_accuracy: 0.8020\n",
            "Epoch 6/8\n",
            "4234/4234 [==============================] - 1138s 269ms/step - loss: 0.5034 - accuracy: 0.8099 - val_loss: 0.4921 - val_accuracy: 0.8157\n",
            "Epoch 7/8\n",
            "4234/4234 [==============================] - 1144s 270ms/step - loss: 0.4883 - accuracy: 0.8192 - val_loss: 0.4904 - val_accuracy: 0.8216\n",
            "Epoch 8/8\n",
            "4234/4234 [==============================] - 1149s 271ms/step - loss: 0.4682 - accuracy: 0.8253 - val_loss: 0.4549 - val_accuracy: 0.8299\n"
          ]
        }
      ]
    },
    {
      "cell_type": "code",
      "metadata": {
        "colab": {
          "base_uri": "https://localhost:8080/",
          "height": 294
        },
        "id": "Ra-fbNVn2uOn",
        "outputId": "e789c0d5-c26a-4509-8b31-c2a23867c7c0"
      },
      "source": [
        "import matplotlib.pyplot as plt\n",
        "plt.plot(history.history['accuracy'])\n",
        "plt.plot(history.history['val_accuracy'])\n",
        "plt.title('Akurasi Model')\n",
        "plt.ylabel('accuracy')\n",
        "plt.xlabel('epoch')\n",
        "plt.legend(['train', 'test'], loc='upper left')\n",
        "plt.show()"
      ],
      "execution_count": 13,
      "outputs": [
        {
          "output_type": "display_data",
          "data": {
            "image/png": "[encoded data removed]",
            "text/plain": [
              "<Figure size 432x288 with 1 Axes>"
            ]
          },
          "metadata": {
            "needs_background": "light"
          }
        }
      ]
    },
    {
      "cell_type": "code",
      "metadata": {
        "colab": {
          "base_uri": "https://localhost:8080/",
          "height": 294
        },
        "id": "X2Lp0Itd2vL2",
        "outputId": "e5263275-6f4b-4dea-85f8-b72f32b8d9fc"
      },
      "source": [
        "plt.plot(history.history['loss'])\n",
        "plt.plot(history.history['val_loss'])\n",
        "plt.title('Loss Model')\n",
        "plt.ylabel('loss')\n",
        "plt.xlabel('epoch')\n",
        "plt.legend(['train', 'test'], loc='upper left')\n",
        "plt.show()"
      ],
      "execution_count": 14,
      "outputs": [
        {
          "output_type": "display_data",
          "data": {
            "image/png": "[encoded data removed]",
            "text/plain": [
              "<Figure size 432x288 with 1 Axes>"
            ]
          },
          "metadata": {
            "needs_background": "light"
          }
        }
      ]
    },
    {
      "cell_type": "code",
      "metadata": {
        "id": "QWAvOsxgpDEp",
        "colab": {
          "base_uri": "https://localhost:8080/"
        },
        "outputId": "a0463824-58b5-4e05-c186-1d5512b09e78"
      },
      "source": [
        "converter = tf.lite.TFLiteConverter.from_keras_model(model)\n",
        "tflite_model = converter.convert()\n",
        "with tf.io.gfile.GFile('model.tflite', 'wb') as f:\n",
        "  f.write(tflite_model)"
      ],
      "execution_count": 15,
      "outputs": [
        {
          "output_type": "stream",
          "name": "stdout",
          "text": [
            "INFO:tensorflow:Assets written to: /tmp/tmprib3c4_z/assets\n"
          ]
        }
      ]
    }
  ]
}